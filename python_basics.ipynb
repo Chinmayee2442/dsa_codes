{
  "nbformat": 4,
  "nbformat_minor": 0,
  "metadata": {
    "colab": {
      "provenance": [],
      "authorship_tag": "ABX9TyOgKjRiAbFie6C2G0mbAjaZ",
      "include_colab_link": true
    },
    "kernelspec": {
      "name": "python3",
      "display_name": "Python 3"
    },
    "language_info": {
      "name": "python"
    }
  },
  "cells": [
    {
      "cell_type": "markdown",
      "metadata": {
        "id": "view-in-github",
        "colab_type": "text"
      },
      "source": [
        "<a href=\"https://colab.research.google.com/github/Chinmayee2442/dsa_codes/blob/main/python_basics.ipynb\" target=\"_parent\"><img src=\"https://colab.research.google.com/assets/colab-badge.svg\" alt=\"Open In Colab\"/></a>"
      ]
    },
    {
      "cell_type": "markdown",
      "source": [
        "basics of python\n",
        "\n",
        "> uasge of print and assinging values to variables\n",
        "\n"
      ],
      "metadata": {
        "id": "DJkZW6e3Sgni"
      }
    },
    {
      "cell_type": "code",
      "execution_count": null,
      "metadata": {
        "colab": {
          "base_uri": "https://localhost:8080/"
        },
        "id": "ClWuG2u_z2lH",
        "outputId": "92aef9e7-15ac-4b6e-f232-ce869f5002e5"
      },
      "outputs": [
        {
          "output_type": "stream",
          "name": "stdout",
          "text": [
            "hello world!\n"
          ]
        }
      ],
      "source": [
        "print(\"hello world!\")"
      ]
    },
    {
      "cell_type": "code",
      "source": [
        "a=19\n",
        "b=26\n",
        "c=a+b\n",
        "print(\"\",c)"
      ],
      "metadata": {
        "colab": {
          "base_uri": "https://localhost:8080/"
        },
        "id": "LYgKHrBv0Gna",
        "outputId": "0e1a5fef-ec4d-40a1-e774-bcd16d78d012"
      },
      "execution_count": null,
      "outputs": [
        {
          "output_type": "stream",
          "name": "stdout",
          "text": [
            " 45\n"
          ]
        }
      ]
    },
    {
      "cell_type": "code",
      "source": [
        "a=8\n",
        "b=4\n",
        "print('',a+b)"
      ],
      "metadata": {
        "colab": {
          "base_uri": "https://localhost:8080/"
        },
        "id": "ILfSqJ6Y0WNC",
        "outputId": "4ed08ded-1cfb-486a-99be-e73b8bffbbd4"
      },
      "execution_count": null,
      "outputs": [
        {
          "output_type": "stream",
          "name": "stdout",
          "text": [
            " 12\n"
          ]
        }
      ]
    },
    {
      "cell_type": "code",
      "source": [
        "name='abcd'\n",
        "age=20\n",
        "occupation='student'\n",
        "college='kletech'\n",
        "print(name,'\\n',age,'\\n',occupation,'\\n',college)"
      ],
      "metadata": {
        "colab": {
          "base_uri": "https://localhost:8080/"
        },
        "id": "SglleMtK6xPR",
        "outputId": "656f7ccc-b33e-4352-953b-7018948bee97"
      },
      "execution_count": null,
      "outputs": [
        {
          "output_type": "stream",
          "name": "stdout",
          "text": [
            "abcd \n",
            " 20 \n",
            " student \n",
            " kletech\n"
          ]
        }
      ]
    },
    {
      "cell_type": "markdown",
      "source": [
        "usage of boolean"
      ],
      "metadata": {
        "id": "2Lk8O6HRS2XP"
      }
    },
    {
      "cell_type": "code",
      "source": [
        "is_online=True\n",
        "print(is_online)"
      ],
      "metadata": {
        "colab": {
          "base_uri": "https://localhost:8080/"
        },
        "id": "jffZ7uT_7bvK",
        "outputId": "7cc3cb4c-8b5b-4f4a-a97f-987de90eaa66"
      },
      "execution_count": null,
      "outputs": [
        {
          "output_type": "stream",
          "name": "stdout",
          "text": [
            "True\n"
          ]
        }
      ]
    },
    {
      "cell_type": "markdown",
      "source": [
        "concatenation of string"
      ],
      "metadata": {
        "id": "5RClqme1S5By"
      }
    },
    {
      "cell_type": "code",
      "source": [
        "name=input(\"what is ur name? \")\n",
        "print('hi '+name+'!')"
      ],
      "metadata": {
        "colab": {
          "base_uri": "https://localhost:8080/"
        },
        "id": "qO8bojBU-kdi",
        "outputId": "386d0445-db14-4b72-d32e-143a8d72f825"
      },
      "execution_count": null,
      "outputs": [
        {
          "output_type": "stream",
          "name": "stdout",
          "text": [
            "what is ur name? abcd\n",
            "hi abcd!\n"
          ]
        }
      ]
    },
    {
      "cell_type": "code",
      "source": [
        "birth_year=input(\"enter ur birth year \")\n",
        "print(\"ur current age is \"+ str(2023-int(birth_year)))"
      ],
      "metadata": {
        "colab": {
          "base_uri": "https://localhost:8080/"
        },
        "id": "l42r9XAj_cKN",
        "outputId": "536e15d2-d148-47a6-cfc9-8912a763a2ee"
      },
      "execution_count": null,
      "outputs": [
        {
          "output_type": "stream",
          "name": "stdout",
          "text": [
            "enter ur birth year 1999\n",
            "ur current age is 24\n"
          ]
        }
      ]
    },
    {
      "cell_type": "markdown",
      "source": [
        "convertion of different variable types\n",
        "\n"
      ],
      "metadata": {
        "id": "W6xjnyO6BqkY"
      }
    },
    {
      "cell_type": "code",
      "source": [
        "first=input('number 1 ')\n",
        "second=input('number 2 ')\n",
        "print('sum= '+str(float(first)+float(second)))"
      ],
      "metadata": {
        "colab": {
          "base_uri": "https://localhost:8080/"
        },
        "id": "KbtfP5l8Bv_G",
        "outputId": "1b794107-fee9-4897-9992-e65d0092915d"
      },
      "execution_count": null,
      "outputs": [
        {
          "output_type": "stream",
          "name": "stdout",
          "text": [
            "number 1 26\n",
            "number 2 19\n",
            "sum= 45.0\n"
          ]
        }
      ]
    },
    {
      "cell_type": "markdown",
      "source": [
        "different operations on a string"
      ],
      "metadata": {
        "id": "8WQ0OFxeTh7K"
      }
    },
    {
      "cell_type": "code",
      "source": [
        "cs=\"learning is fun!\"\n",
        "print(cs.capitalize())\n",
        "print(cs.find('g'))\n",
        "print(cs.replace(\"you've\",\"i've\"))\n",
        "print(cs.swapcase())\n",
        "print('this' in cs )"
      ],
      "metadata": {
        "colab": {
          "base_uri": "https://localhost:8080/"
        },
        "id": "9Y6Ob1ewCjPi",
        "outputId": "89de9854-f305-401f-fee0-f217f8f3495a"
      },
      "execution_count": null,
      "outputs": [
        {
          "output_type": "stream",
          "name": "stdout",
          "text": [
            "Learning is fun!\n",
            "7\n",
            "learning is fun!\n",
            "LEARNING IS FUN!\n",
            "False\n"
          ]
        }
      ]
    },
    {
      "cell_type": "markdown",
      "source": [
        "arithmatic operations"
      ],
      "metadata": {
        "id": "XpZdA-MYTtTn"
      }
    },
    {
      "cell_type": "code",
      "source": [
        "print(10+3)\n",
        "print(10/3)\n",
        "print(10//3)\n",
        "print(10-3)\n",
        "print(10*3)\n",
        "print(10**3)"
      ],
      "metadata": {
        "colab": {
          "base_uri": "https://localhost:8080/"
        },
        "id": "vbeXwdt4DpkI",
        "outputId": "244a3e87-679c-4a1d-e862-33b21b8a14d6"
      },
      "execution_count": null,
      "outputs": [
        {
          "output_type": "stream",
          "name": "stdout",
          "text": [
            "13\n",
            "3.3333333333333335\n",
            "3\n",
            "7\n",
            "30\n",
            "1000\n"
          ]
        }
      ]
    },
    {
      "cell_type": "markdown",
      "source": [
        "logical operations"
      ],
      "metadata": {
        "id": "EfBPGClNTz9y"
      }
    },
    {
      "cell_type": "code",
      "source": [
        "price=float(input(\"price: \"))\n",
        "print(price>100 and price<120)\n",
        "print(price<60 or price<100)\n",
        "print(not price>26)"
      ],
      "metadata": {
        "colab": {
          "base_uri": "https://localhost:8080/"
        },
        "id": "apxAWHdWGT9A",
        "outputId": "afeb5308-6ec7-4c7d-d01d-f89489357d99"
      },
      "execution_count": null,
      "outputs": [
        {
          "output_type": "stream",
          "name": "stdout",
          "text": [
            "price: 42\n",
            "False\n",
            "True\n",
            "False\n"
          ]
        }
      ]
    },
    {
      "cell_type": "markdown",
      "source": [
        "if, else if and else"
      ],
      "metadata": {
        "id": "rSokbTSlT3iN"
      }
    },
    {
      "cell_type": "code",
      "source": [
        "temp=float(input(\"enter the temperature: \"))\n",
        "if temp>=35:\n",
        "  print(\"its a hot day\",'\\n','drink plenty of water')\n",
        "elif temp>=30 and temp<35:\n",
        "  print('its a bit hot','\\n','drink water')\n",
        "elif temp<30 and temp>=20:\n",
        "  print(\"the temperature is ideal\",'\\n','stay healthy!')\n",
        "else:\n",
        "  print(\"its cold..!!\")"
      ],
      "metadata": {
        "id": "YM3h2bldHhVc",
        "colab": {
          "base_uri": "https://localhost:8080/"
        },
        "outputId": "7592eb7c-ad18-4dd9-9a5a-41afc0ccbc65"
      },
      "execution_count": null,
      "outputs": [
        {
          "output_type": "stream",
          "name": "stdout",
          "text": [
            "enter the temperature: 34\n",
            "its a bit hot \n",
            " drink water\n"
          ]
        }
      ]
    },
    {
      "cell_type": "markdown",
      "source": [
        "while loop"
      ],
      "metadata": {
        "id": "axO5R-YeT633"
      }
    },
    {
      "cell_type": "code",
      "source": [
        "i=1\n",
        "while i<=5:\n",
        " print(i)\n",
        " i=i+1"
      ],
      "metadata": {
        "colab": {
          "base_uri": "https://localhost:8080/"
        },
        "id": "nT4s8_u61EZT",
        "outputId": "11bc119c-d014-4dbe-b13a-fbe6b3cc3ca1"
      },
      "execution_count": null,
      "outputs": [
        {
          "output_type": "stream",
          "name": "stdout",
          "text": [
            "1\n",
            "2\n",
            "3\n",
            "4\n",
            "5\n"
          ]
        }
      ]
    },
    {
      "cell_type": "code",
      "source": [
        "i=1;\n",
        "while i<=10:\n",
        "  print(i*'*')\n",
        "  i=i+1"
      ],
      "metadata": {
        "colab": {
          "base_uri": "https://localhost:8080/"
        },
        "id": "qrPY7kWb12Jc",
        "outputId": "dfa1c8af-9503-4785-d954-efc5f7a50c1a"
      },
      "execution_count": null,
      "outputs": [
        {
          "output_type": "stream",
          "name": "stdout",
          "text": [
            "*\n",
            "**\n",
            "***\n",
            "****\n",
            "*****\n",
            "******\n",
            "*******\n",
            "********\n",
            "*********\n",
            "**********\n"
          ]
        }
      ]
    },
    {
      "cell_type": "markdown",
      "source": [
        "arrays"
      ],
      "metadata": {
        "id": "s5QyFG51UuzU"
      }
    },
    {
      "cell_type": "code",
      "source": [
        "names=[\"abcd\",\"efgh\",\"hijk\",\"lmno\"]\n",
        "print(names)\n",
        "print(names[0],names[-2])\n",
        "print(names[0:3])\n",
        "print(names[2:4])\n",
        "names[1]=\"wxyz\"\n",
        "print(names)"
      ],
      "metadata": {
        "colab": {
          "base_uri": "https://localhost:8080/"
        },
        "id": "_JeRufBT4Hvf",
        "outputId": "850f9c6e-855e-479f-b5c8-7484960dde43"
      },
      "execution_count": null,
      "outputs": [
        {
          "output_type": "stream",
          "name": "stdout",
          "text": [
            "['abcd', 'efgh', 'hijk', 'lmno']\n",
            "abcd hijk\n",
            "['abcd', 'efgh', 'hijk']\n",
            "['hijk', 'lmno']\n",
            "['abcd', 'wxyz', 'hijk', 'lmno']\n"
          ]
        }
      ]
    },
    {
      "cell_type": "markdown",
      "source": [
        "nested loops"
      ],
      "metadata": {
        "id": "OCpTpjU1UxZk"
      }
    },
    {
      "cell_type": "code",
      "source": [
        "num=int(input(\"enter the number: \"))\n",
        "i=2\n",
        "while i<num:\n",
        "  a=num%i\n",
        "  if a==0:\n",
        "    b=0\n",
        "    break\n",
        "  else:\n",
        "    b=1\n",
        "  i=i+1\n",
        "if b==0:\n",
        "   print(\"the number is not prime\\n\")\n",
        "else:\n",
        "     print(\"the number is prime\\n\")"
      ],
      "metadata": {
        "colab": {
          "base_uri": "https://localhost:8080/"
        },
        "id": "dYO3je5tTSgT",
        "outputId": "6683df19-925e-46d8-e1a1-1049b1ce47f4"
      },
      "execution_count": null,
      "outputs": [
        {
          "output_type": "stream",
          "name": "stdout",
          "text": [
            "enter the number: 7\n",
            "the number is prime\n",
            "\n"
          ]
        }
      ]
    },
    {
      "cell_type": "markdown",
      "source": [
        "factorial of a number"
      ],
      "metadata": {
        "id": "8dOA4bcVe5xx"
      }
    },
    {
      "cell_type": "code",
      "source": [
        "num=int(input(\"enter the number: \"))\n",
        "fact=1\n",
        "for x in range (1,num+1):\n",
        "  fact=x*fact\n",
        "print(fact)"
      ],
      "metadata": {
        "colab": {
          "base_uri": "https://localhost:8080/"
        },
        "id": "GfsxTgS-fCbc",
        "outputId": "ef8e67f6-b2e4-49dd-c2cc-5875321b487a"
      },
      "execution_count": null,
      "outputs": [
        {
          "output_type": "stream",
          "name": "stdout",
          "text": [
            "enter the number: 6\n",
            "720\n"
          ]
        }
      ]
    }
  ]
}