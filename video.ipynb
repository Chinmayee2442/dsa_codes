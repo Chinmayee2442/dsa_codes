{
  "nbformat": 4,
  "nbformat_minor": 0,
  "metadata": {
    "colab": {
      "provenance": [],
      "authorship_tag": "ABX9TyPwD4BhB3SMorF8D45CnW6Y",
      "include_colab_link": true
    },
    "kernelspec": {
      "name": "python3",
      "display_name": "Python 3"
    },
    "language_info": {
      "name": "python"
    }
  },
  "cells": [
    {
      "cell_type": "markdown",
      "metadata": {
        "id": "view-in-github",
        "colab_type": "text"
      },
      "source": [
        "<a href=\"https://colab.research.google.com/github/Chinmayee2442/dsa_codes/blob/main/video.ipynb\" target=\"_parent\"><img src=\"https://colab.research.google.com/assets/colab-badge.svg\" alt=\"Open In Colab\"/></a>"
      ]
    },
    {
      "cell_type": "markdown",
      "source": [
        "read video"
      ],
      "metadata": {
        "id": "9b2hTdaPIgHb"
      }
    },
    {
      "cell_type": "code",
      "execution_count": null,
      "metadata": {
        "id": "ueT3rF8LIeyG"
      },
      "outputs": [],
      "source": [
        "import cv2\n",
        "import numpy as np\n",
        "from matplotlib import pyplot as plt\n",
        "from IPython.display import display, HTML\n",
        "from google.colab.patches import cv2_imshow\n",
        "\n",
        "cap=cv2.VideoCapture(\"/pexels-ruvim-miksanskiy-1394254-640x338-24fps.mp4\")\n",
        "#to grab a frame\n",
        "ret , frame=cap.read()\n",
        "frame\n",
        "\n",
        "cv2_imshow(frame)\n",
        "img=cv2.cvtColor(frame,cv2.COLOR_BGR2RGB)\n",
        "cv2_imshow(img)\n",
        "\n",
        "#release the capture\n",
        "cap.release()\n",
        "\n",
        "cap=cv2.VideoCapture(\"/pexels-ruvim-miksanskiy-1394254-640x338-24fps.mp4\")\n",
        "ret, frame=cap.read()#to read cap again which was released\n",
        "H=cap.get(cv2.CAP_PROP_FRAME_HEIGHT)#HEIGHT\n",
        "W=cap.get(cv2.CAP_PROP_FRAME_WIDTH)#WIDTH\n",
        "C=cap.get(cv2.CAP_PROP_FRAME_COUNT)#COUNT NUMBER OF FRAMES\n",
        "T=cap.get(cv2.CAP_PROP_FRAME_TYPE)\n",
        "FPSS=cap.get(cv2.CAP_PROP_FPS)#FRAMES PER SECOND\n",
        "print(H,\"\\n\",W,\"\\n\",C,\"\\n\",T,\"\\n\",FPSS,\"\\n\")\n",
        "\n",
        "#release the capture\n",
        "cap.release()\n",
        "\n",
        "cap=cv2.VideoCapture(\"/pexels-ruvim-miksanskiy-1394254-640x338-24fps.mp4\")\n",
        "for frame_index in range(int(cap.get(cv2.CAP_PROP_FRAME_COUNT))):\n",
        "  #print(frame_index)\n",
        "\n",
        "  ret, frame=cap.read()#to read cap\n",
        "  #frame_rgb = cv2.cvtColor(frame, cv2.COLOR_BGR2RGB)\n",
        "\n",
        "  cv2_imshow(frame)#show the video\n",
        "  #plt.imshow(frame_rgb)\n",
        "  #plt.axis('off')\n",
        "  #plt.show()\n",
        "\n",
        "  #render\n",
        "  if cv2.waitKey(10)& 0xFF==ord('q'):\n",
        "    break\n",
        "\n",
        "cap.release()\n",
        "cv2.destroyAllWindows()\n"
      ]
    },
    {
      "cell_type": "code",
      "source": [],
      "metadata": {
        "id": "u_uc08uRUGx8"
      },
      "execution_count": null,
      "outputs": []
    }
  ]
}