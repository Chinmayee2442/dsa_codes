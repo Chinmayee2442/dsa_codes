{
  "nbformat": 4,
  "nbformat_minor": 0,
  "metadata": {
    "colab": {
      "provenance": [],
      "mount_file_id": "1LmqxjAUY7lrZrw44gsKH681yA1gdGLKY",
      "authorship_tag": "ABX9TyM9Z1MZNaOEj5U+4VjNyshY",
      "include_colab_link": true
    },
    "kernelspec": {
      "name": "python3",
      "display_name": "Python 3"
    },
    "language_info": {
      "name": "python"
    }
  },
  "cells": [
    {
      "cell_type": "markdown",
      "metadata": {
        "id": "view-in-github",
        "colab_type": "text"
      },
      "source": [
        "<a href=\"https://colab.research.google.com/github/Chinmayee2442/dsa_codes/blob/main/img%2Bprocessing2.ipynb\" target=\"_parent\"><img src=\"https://colab.research.google.com/assets/colab-badge.svg\" alt=\"Open In Colab\"/></a>"
      ]
    },
    {
      "cell_type": "code",
      "execution_count": null,
      "metadata": {
        "id": "8QVMCtQubJJ_"
      },
      "outputs": [],
      "source": [
        "import numpy as np\n",
        "import cv2\n",
        "import glob\n",
        "from google.colab.patches import cv2_imshow\n",
        "file_list= glob.glob('/content/drive/MyDrive/test_img/*.*')\n",
        "print(file_list)\n",
        "\n",
        "my_list=[]\n",
        "path=\"/content/drive/MyDrive/test_img/*.*\"\n",
        "#*.* is to specify all kinda extensions, u can also put like *.jpg\n",
        "for file in glob.glob(path):\n",
        "  print(file)\n",
        "  a=cv2.imread(file)\n",
        "  my_list.append(a)\n",
        "cv2_imshow(my_list[6])"
      ]
    },
    {
      "cell_type": "markdown",
      "source": [
        "covert from bgr to rgb"
      ],
      "metadata": {
        "id": "CH0LPFP7jx9c"
      }
    },
    {
      "cell_type": "code",
      "source": [
        "import numpy as np\n",
        "import cv2\n",
        "import glob\n",
        "import time\n",
        "from google.colab.patches import cv2_imshow\n",
        "#file_list= glob.glob('/content/drive/MyDrive/test_img/*.*')\n",
        "#print(file_list)\n",
        "path=\"/content/drive/MyDrive/test_img/*.*\" #*.* is to specify all sort of extensions\n",
        "img_no=1\n",
        "for file in glob.glob(path):\n",
        "  c=cv2.imread(file)\n",
        "  a=cv2.cvtColor(c,cv2.COLOR_BGR2RGB)\n",
        "  cv2_imshow(a)\n",
        "#  cv2.waitKey(1000)#for 1 sec\n",
        "# cv2.destroyAllWindows()    #wont work in colab\n",
        "  time.sleep(1) #wait for a sec\n",
        "#  cv2.imshow(np.zeros((1,1))) #clear the output to remove the displayed image"
      ],
      "metadata": {
        "id": "Zmlv_Gt7FJIe"
      },
      "execution_count": null,
      "outputs": []
    },
    {
      "cell_type": "markdown",
      "source": [
        "resize\n"
      ],
      "metadata": {
        "id": "A8b_O42cNaG8"
      }
    },
    {
      "cell_type": "code",
      "source": [
        "import numpy as np\n",
        "import cv2\n",
        "import glob\n",
        "from google.colab.patches import cv2_imshow\n",
        "path=\"/content/drive/MyDrive/test_img/*.*\" #*.* is to specify all sort of extensions\n",
        "img_no=1\n",
        "for file in glob.glob(path):\n",
        "  c=cv2.imread(file)\n",
        "  img_rez=cv2.resize(c,(200,200))\n",
        "  crop_img=c[20:100,20:100]\n",
        "  cv2_imshow(crop_img)\n",
        "  cv2_imshow(img_rez)\n",
        "\n",
        ""
      ],
      "metadata": {
        "id": "en7HqG3sNdne"
      },
      "execution_count": null,
      "outputs": []
    }
  ]
}